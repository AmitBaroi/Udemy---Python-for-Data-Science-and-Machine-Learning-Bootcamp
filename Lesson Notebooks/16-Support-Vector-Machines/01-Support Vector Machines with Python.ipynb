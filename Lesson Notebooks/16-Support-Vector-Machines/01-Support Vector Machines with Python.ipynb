{
 "cells": [
  {
   "cell_type": "markdown",
   "metadata": {},
   "source": [
    "___\n",
    "\n",
    "<a href='http://www.pieriandata.com'> <img src='../Pierian_Data_Logo.png' /></a>\n",
    "___\n",
    "# Support Vector Machines with Python\n",
    "\n",
    "Welcome to the Support Vector Machines with Python Lecture Notebook! Remember to refer to the video lecture for the full background information on the code here!\n",
    "\n",
    "## Import Libraries"
   ]
  },
  {
   "cell_type": "code",
   "execution_count": 51,
   "metadata": {
    "collapsed": true
   },
   "outputs": [],
   "source": [
    "import pandas as pd\n",
    "import numpy as np\n",
    "import matplotlib.pyplot as plt\n",
    "import seaborn as sns\n",
    "%matplotlib inline"
   ]
  },
  {
   "cell_type": "markdown",
   "metadata": {},
   "source": [
    "## Get the Data\n",
    "\n",
    "We'll use the built in breast cancer dataset from Scikit Learn. We can get with the load function:"
   ]
  },
  {
   "cell_type": "code",
   "execution_count": 52,
   "metadata": {
    "collapsed": true
   },
   "outputs": [],
   "source": [
    "from sklearn.datasets import load_breast_cancer"
   ]
  },
  {
   "cell_type": "code",
   "execution_count": 54,
   "metadata": {
    "collapsed": true
   },
   "outputs": [],
   "source": [
    "cancer = load_breast_cancer()"
   ]
  },
  {
   "cell_type": "markdown",
   "metadata": {},
   "source": [
    "The data set is presented in a dictionary form:"
   ]
  },
  {
   "cell_type": "code",
   "execution_count": 55,
   "metadata": {
    "collapsed": false
   },
   "outputs": [
    {
     "data": {
      "text/plain": [
       "dict_keys(['DESCR', 'target', 'data', 'target_names', 'feature_names'])"
      ]
     },
     "execution_count": 55,
     "metadata": {},
     "output_type": "execute_result"
    }
   ],
   "source": [
    "cancer.keys()"
   ]
  },
  {
   "cell_type": "markdown",
   "metadata": {},
   "source": [
    "We can grab information and arrays out of this dictionary to set up our data frame and understanding of the features:"
   ]
  },
  {
   "cell_type": "code",
   "execution_count": 4,
   "metadata": {
    "collapsed": false
   },
   "outputs": [
    {
     "name": "stdout",
     "output_type": "stream",
     "text": [
      "Breast Cancer Wisconsin (Diagnostic) Database\n",
      "\n",
      "Notes\n",
      "-----\n",
      "Data Set Characteristics:\n",
      "    :Number of Instances: 569\n",
      "\n",
      "    :Number of Attributes: 30 numeric, predictive attributes and the class\n",
      "\n",
      "    :Attribute Information:\n",
      "        - radius (mean of distances from center to points on the perimeter)\n",
      "        - texture (standard deviation of gray-scale values)\n",
      "        - perimeter\n",
      "        - area\n",
      "        - smoothness (local variation in radius lengths)\n",
      "        - compactness (perimeter^2 / area - 1.0)\n",
      "        - concavity (severity of concave portions of the contour)\n",
      "        - concave points (number of concave portions of the contour)\n",
      "        - symmetry \n",
      "        - fractal dimension (\"coastline approximation\" - 1)\n",
      "        \n",
      "        The mean, standard error, and \"worst\" or largest (mean of the three\n",
      "        largest values) of these features were computed for each image,\n",
      "        resulting in 30 features.  For instance, field 3 is Mean Radius, field\n",
      "        13 is Radius SE, field 23 is Worst Radius.\n",
      "        \n",
      "        - class:\n",
      "                - WDBC-Malignant\n",
      "                - WDBC-Benign\n",
      "\n",
      "    :Summary Statistics:\n",
      "\n",
      "    ===================================== ======= ========\n",
      "                                           Min     Max\n",
      "    ===================================== ======= ========\n",
      "    radius (mean):                         6.981   28.11\n",
      "    texture (mean):                        9.71    39.28\n",
      "    perimeter (mean):                      43.79   188.5\n",
      "    area (mean):                           143.5   2501.0\n",
      "    smoothness (mean):                     0.053   0.163\n",
      "    compactness (mean):                    0.019   0.345\n",
      "    concavity (mean):                      0.0     0.427\n",
      "    concave points (mean):                 0.0     0.201\n",
      "    symmetry (mean):                       0.106   0.304\n",
      "    fractal dimension (mean):              0.05    0.097\n",
      "    radius (standard error):               0.112   2.873\n",
      "    texture (standard error):              0.36    4.885\n",
      "    perimeter (standard error):            0.757   21.98\n",
      "    area (standard error):                 6.802   542.2\n",
      "    smoothness (standard error):           0.002   0.031\n",
      "    compactness (standard error):          0.002   0.135\n",
      "    concavity (standard error):            0.0     0.396\n",
      "    concave points (standard error):       0.0     0.053\n",
      "    symmetry (standard error):             0.008   0.079\n",
      "    fractal dimension (standard error):    0.001   0.03\n",
      "    radius (worst):                        7.93    36.04\n",
      "    texture (worst):                       12.02   49.54\n",
      "    perimeter (worst):                     50.41   251.2\n",
      "    area (worst):                          185.2   4254.0\n",
      "    smoothness (worst):                    0.071   0.223\n",
      "    compactness (worst):                   0.027   1.058\n",
      "    concavity (worst):                     0.0     1.252\n",
      "    concave points (worst):                0.0     0.291\n",
      "    symmetry (worst):                      0.156   0.664\n",
      "    fractal dimension (worst):             0.055   0.208\n",
      "    ===================================== ======= ========\n",
      "\n",
      "    :Missing Attribute Values: None\n",
      "\n",
      "    :Class Distribution: 212 - Malignant, 357 - Benign\n",
      "\n",
      "    :Creator:  Dr. William H. Wolberg, W. Nick Street, Olvi L. Mangasarian\n",
      "\n",
      "    :Donor: Nick Street\n",
      "\n",
      "    :Date: November, 1995\n",
      "\n",
      "This is a copy of UCI ML Breast Cancer Wisconsin (Diagnostic) datasets.\n",
      "https://goo.gl/U2Uwz2\n",
      "\n",
      "Features are computed from a digitized image of a fine needle\n",
      "aspirate (FNA) of a breast mass.  They describe\n",
      "characteristics of the cell nuclei present in the image.\n",
      "A few of the images can be found at\n",
      "http://www.cs.wisc.edu/~street/images/\n",
      "\n",
      "Separating plane described above was obtained using\n",
      "Multisurface Method-Tree (MSM-T) [K. P. Bennett, \"Decision Tree\n",
      "Construction Via Linear Programming.\" Proceedings of the 4th\n",
      "Midwest Artificial Intelligence and Cognitive Science Society,\n",
      "pp. 97-101, 1992], a classification method which uses linear\n",
      "programming to construct a decision tree.  Relevant features\n",
      "were selected using an exhaustive search in the space of 1-4\n",
      "features and 1-3 separating planes.\n",
      "\n",
      "The actual linear program used to obtain the separating plane\n",
      "in the 3-dimensional space is that described in:\n",
      "[K. P. Bennett and O. L. Mangasarian: \"Robust Linear\n",
      "Programming Discrimination of Two Linearly Inseparable Sets\",\n",
      "Optimization Methods and Software 1, 1992, 23-34].\n",
      "\n",
      "This database is also available through the UW CS ftp server:\n",
      "\n",
      "ftp ftp.cs.wisc.edu\n",
      "cd math-prog/cpo-dataset/machine-learn/WDBC/\n",
      "\n",
      "References\n",
      "----------\n",
      "   - W.N. Street, W.H. Wolberg and O.L. Mangasarian. Nuclear feature extraction \n",
      "     for breast tumor diagnosis. IS&T/SPIE 1993 International Symposium on \n",
      "     Electronic Imaging: Science and Technology, volume 1905, pages 861-870, \n",
      "     San Jose, CA, 1993. \n",
      "   - O.L. Mangasarian, W.N. Street and W.H. Wolberg. Breast cancer diagnosis and \n",
      "     prognosis via linear programming. Operations Research, 43(4), pages 570-577, \n",
      "     July-August 1995.\n",
      "   - W.H. Wolberg, W.N. Street, and O.L. Mangasarian. Machine learning techniques\n",
      "     to diagnose breast cancer from fine-needle aspirates. Cancer Letters 77 (1994) \n",
      "     163-171.\n",
      "\n"
     ]
    }
   ],
   "source": [
    "print(cancer['DESCR'])"
   ]
  },
  {
   "cell_type": "code",
   "execution_count": 56,
   "metadata": {
    "collapsed": false
   },
   "outputs": [
    {
     "data": {
      "text/plain": [
       "array(['mean radius', 'mean texture', 'mean perimeter', 'mean area',\n",
       "       'mean smoothness', 'mean compactness', 'mean concavity',\n",
       "       'mean concave points', 'mean symmetry', 'mean fractal dimension',\n",
       "       'radius error', 'texture error', 'perimeter error', 'area error',\n",
       "       'smoothness error', 'compactness error', 'concavity error',\n",
       "       'concave points error', 'symmetry error', 'fractal dimension error',\n",
       "       'worst radius', 'worst texture', 'worst perimeter', 'worst area',\n",
       "       'worst smoothness', 'worst compactness', 'worst concavity',\n",
       "       'worst concave points', 'worst symmetry', 'worst fractal dimension'], \n",
       "      dtype='<U23')"
      ]
     },
     "execution_count": 56,
     "metadata": {},
     "output_type": "execute_result"
    }
   ],
   "source": [
    "cancer['feature_names']"
   ]
  },
  {
   "cell_type": "markdown",
   "metadata": {},
   "source": [
    "## Set up DataFrame"
   ]
  },
  {
   "cell_type": "code",
   "execution_count": 12,
   "metadata": {
    "collapsed": false
   },
   "outputs": [
    {
     "name": "stdout",
     "output_type": "stream",
     "text": [
      "<class 'pandas.core.frame.DataFrame'>\n",
      "RangeIndex: 569 entries, 0 to 568\n",
      "Data columns (total 30 columns):\n",
      "mean radius                569 non-null float64\n",
      "mean texture               569 non-null float64\n",
      "mean perimeter             569 non-null float64\n",
      "mean area                  569 non-null float64\n",
      "mean smoothness            569 non-null float64\n",
      "mean compactness           569 non-null float64\n",
      "mean concavity             569 non-null float64\n",
      "mean concave points        569 non-null float64\n",
      "mean symmetry              569 non-null float64\n",
      "mean fractal dimension     569 non-null float64\n",
      "radius error               569 non-null float64\n",
      "texture error              569 non-null float64\n",
      "perimeter error            569 non-null float64\n",
      "area error                 569 non-null float64\n",
      "smoothness error           569 non-null float64\n",
      "compactness error          569 non-null float64\n",
      "concavity error            569 non-null float64\n",
      "concave points error       569 non-null float64\n",
      "symmetry error             569 non-null float64\n",
      "fractal dimension error    569 non-null float64\n",
      "worst radius               569 non-null float64\n",
      "worst texture              569 non-null float64\n",
      "worst perimeter            569 non-null float64\n",
      "worst area                 569 non-null float64\n",
      "worst smoothness           569 non-null float64\n",
      "worst compactness          569 non-null float64\n",
      "worst concavity            569 non-null float64\n",
      "worst concave points       569 non-null float64\n",
      "worst symmetry             569 non-null float64\n",
      "worst fractal dimension    569 non-null float64\n",
      "dtypes: float64(30)\n",
      "memory usage: 133.4 KB\n"
     ]
    }
   ],
   "source": [
    "df_feat = pd.DataFrame(cancer['data'],columns=cancer['feature_names'])\n",
    "df_feat.info()"
   ]
  },
  {
   "cell_type": "code",
   "execution_count": 14,
   "metadata": {
    "collapsed": false
   },
   "outputs": [
    {
     "data": {
      "text/plain": [
       "array([0, 0, 0, 0, 0, 0, 0, 0, 0, 0, 0, 0, 0, 0, 0, 0, 0, 0, 0, 1, 1, 1, 0,\n",
       "       0, 0, 0, 0, 0, 0, 0, 0, 0, 0, 0, 0, 0, 0, 1, 0, 0, 0, 0, 0, 0, 0, 0,\n",
       "       1, 0, 1, 1, 1, 1, 1, 0, 0, 1, 0, 0, 1, 1, 1, 1, 0, 1, 0, 0, 1, 1, 1,\n",
       "       1, 0, 1, 0, 0, 1, 0, 1, 0, 0, 1, 1, 1, 0, 0, 1, 0, 0, 0, 1, 1, 1, 0,\n",
       "       1, 1, 0, 0, 1, 1, 1, 0, 0, 1, 1, 1, 1, 0, 1, 1, 0, 1, 1, 1, 1, 1, 1,\n",
       "       1, 1, 0, 0, 0, 1, 0, 0, 1, 1, 1, 0, 0, 1, 0, 1, 0, 0, 1, 0, 0, 1, 1,\n",
       "       0, 1, 1, 0, 1, 1, 1, 1, 0, 1, 1, 1, 1, 1, 1, 1, 1, 1, 0, 1, 1, 1, 1,\n",
       "       0, 0, 1, 0, 1, 1, 0, 0, 1, 1, 0, 0, 1, 1, 1, 1, 0, 1, 1, 0, 0, 0, 1,\n",
       "       0, 1, 0, 1, 1, 1, 0, 1, 1, 0, 0, 1, 0, 0, 0, 0, 1, 0, 0, 0, 1, 0, 1,\n",
       "       0, 1, 1, 0, 1, 0, 0, 0, 0, 1, 1, 0, 0, 1, 1, 1, 0, 1, 1, 1, 1, 1, 0,\n",
       "       0, 1, 1, 0, 1, 1, 0, 0, 1, 0, 1, 1, 1, 1, 0, 1, 1, 1, 1, 1, 0, 1, 0,\n",
       "       0, 0, 0, 0, 0, 0, 0, 0, 0, 0, 0, 0, 0, 1, 1, 1, 1, 1, 1, 0, 1, 0, 1,\n",
       "       1, 0, 1, 1, 0, 1, 0, 0, 1, 1, 1, 1, 1, 1, 1, 1, 1, 1, 1, 1, 1, 0, 1,\n",
       "       1, 0, 1, 0, 1, 1, 1, 1, 1, 1, 1, 1, 1, 1, 1, 1, 1, 1, 0, 1, 1, 1, 0,\n",
       "       1, 0, 1, 1, 1, 1, 0, 0, 0, 1, 1, 1, 1, 0, 1, 0, 1, 0, 1, 1, 1, 0, 1,\n",
       "       1, 1, 1, 1, 1, 1, 0, 0, 0, 1, 1, 1, 1, 1, 1, 1, 1, 1, 1, 1, 0, 0, 1,\n",
       "       0, 0, 0, 1, 0, 0, 1, 1, 1, 1, 1, 0, 1, 1, 1, 1, 1, 0, 1, 1, 1, 0, 1,\n",
       "       1, 0, 0, 1, 1, 1, 1, 1, 1, 0, 1, 1, 1, 1, 1, 1, 1, 0, 1, 1, 1, 1, 1,\n",
       "       0, 1, 1, 0, 1, 1, 1, 1, 1, 1, 1, 1, 1, 1, 1, 1, 0, 1, 0, 0, 1, 0, 1,\n",
       "       1, 1, 1, 1, 0, 1, 1, 0, 1, 0, 1, 1, 0, 1, 0, 1, 1, 1, 1, 1, 1, 1, 1,\n",
       "       0, 0, 1, 1, 1, 1, 1, 1, 0, 1, 1, 1, 1, 1, 1, 1, 1, 1, 1, 0, 1, 1, 1,\n",
       "       1, 1, 1, 1, 0, 1, 0, 1, 1, 0, 1, 1, 1, 1, 1, 0, 0, 1, 0, 1, 0, 1, 1,\n",
       "       1, 1, 1, 0, 1, 1, 0, 1, 0, 1, 0, 0, 1, 1, 1, 0, 1, 1, 1, 1, 1, 1, 1,\n",
       "       1, 1, 1, 1, 0, 1, 0, 0, 1, 1, 1, 1, 1, 1, 1, 1, 1, 1, 1, 1, 1, 1, 1,\n",
       "       1, 1, 1, 1, 1, 1, 1, 1, 1, 1, 0, 0, 0, 0, 0, 0, 1])"
      ]
     },
     "execution_count": 14,
     "metadata": {},
     "output_type": "execute_result"
    }
   ],
   "source": [
    "cancer['target']"
   ]
  },
  {
   "cell_type": "code",
   "execution_count": 16,
   "metadata": {
    "collapsed": false
   },
   "outputs": [],
   "source": [
    "df_target = pd.DataFrame(cancer['target'],columns=['Cancer'])"
   ]
  },
  {
   "cell_type": "markdown",
   "metadata": {},
   "source": [
    "Now let's actually check out the dataframe!"
   ]
  },
  {
   "cell_type": "code",
   "execution_count": 8,
   "metadata": {
    "collapsed": false
   },
   "outputs": [
    {
     "data": {
      "text/html": [
       "<div>\n",
       "<table border=\"1\" class=\"dataframe\">\n",
       "  <thead>\n",
       "    <tr style=\"text-align: right;\">\n",
       "      <th></th>\n",
       "      <th>mean radius</th>\n",
       "      <th>mean texture</th>\n",
       "      <th>mean perimeter</th>\n",
       "      <th>mean area</th>\n",
       "      <th>mean smoothness</th>\n",
       "      <th>mean compactness</th>\n",
       "      <th>mean concavity</th>\n",
       "      <th>mean concave points</th>\n",
       "      <th>mean symmetry</th>\n",
       "      <th>mean fractal dimension</th>\n",
       "      <th>...</th>\n",
       "      <th>worst radius</th>\n",
       "      <th>worst texture</th>\n",
       "      <th>worst perimeter</th>\n",
       "      <th>worst area</th>\n",
       "      <th>worst smoothness</th>\n",
       "      <th>worst compactness</th>\n",
       "      <th>worst concavity</th>\n",
       "      <th>worst concave points</th>\n",
       "      <th>worst symmetry</th>\n",
       "      <th>worst fractal dimension</th>\n",
       "    </tr>\n",
       "  </thead>\n",
       "  <tbody>\n",
       "    <tr>\n",
       "      <th>0</th>\n",
       "      <td>17.99</td>\n",
       "      <td>10.38</td>\n",
       "      <td>122.80</td>\n",
       "      <td>1001.0</td>\n",
       "      <td>0.11840</td>\n",
       "      <td>0.27760</td>\n",
       "      <td>0.3001</td>\n",
       "      <td>0.14710</td>\n",
       "      <td>0.2419</td>\n",
       "      <td>0.07871</td>\n",
       "      <td>...</td>\n",
       "      <td>25.38</td>\n",
       "      <td>17.33</td>\n",
       "      <td>184.60</td>\n",
       "      <td>2019.0</td>\n",
       "      <td>0.1622</td>\n",
       "      <td>0.6656</td>\n",
       "      <td>0.7119</td>\n",
       "      <td>0.2654</td>\n",
       "      <td>0.4601</td>\n",
       "      <td>0.11890</td>\n",
       "    </tr>\n",
       "    <tr>\n",
       "      <th>1</th>\n",
       "      <td>20.57</td>\n",
       "      <td>17.77</td>\n",
       "      <td>132.90</td>\n",
       "      <td>1326.0</td>\n",
       "      <td>0.08474</td>\n",
       "      <td>0.07864</td>\n",
       "      <td>0.0869</td>\n",
       "      <td>0.07017</td>\n",
       "      <td>0.1812</td>\n",
       "      <td>0.05667</td>\n",
       "      <td>...</td>\n",
       "      <td>24.99</td>\n",
       "      <td>23.41</td>\n",
       "      <td>158.80</td>\n",
       "      <td>1956.0</td>\n",
       "      <td>0.1238</td>\n",
       "      <td>0.1866</td>\n",
       "      <td>0.2416</td>\n",
       "      <td>0.1860</td>\n",
       "      <td>0.2750</td>\n",
       "      <td>0.08902</td>\n",
       "    </tr>\n",
       "    <tr>\n",
       "      <th>2</th>\n",
       "      <td>19.69</td>\n",
       "      <td>21.25</td>\n",
       "      <td>130.00</td>\n",
       "      <td>1203.0</td>\n",
       "      <td>0.10960</td>\n",
       "      <td>0.15990</td>\n",
       "      <td>0.1974</td>\n",
       "      <td>0.12790</td>\n",
       "      <td>0.2069</td>\n",
       "      <td>0.05999</td>\n",
       "      <td>...</td>\n",
       "      <td>23.57</td>\n",
       "      <td>25.53</td>\n",
       "      <td>152.50</td>\n",
       "      <td>1709.0</td>\n",
       "      <td>0.1444</td>\n",
       "      <td>0.4245</td>\n",
       "      <td>0.4504</td>\n",
       "      <td>0.2430</td>\n",
       "      <td>0.3613</td>\n",
       "      <td>0.08758</td>\n",
       "    </tr>\n",
       "    <tr>\n",
       "      <th>3</th>\n",
       "      <td>11.42</td>\n",
       "      <td>20.38</td>\n",
       "      <td>77.58</td>\n",
       "      <td>386.1</td>\n",
       "      <td>0.14250</td>\n",
       "      <td>0.28390</td>\n",
       "      <td>0.2414</td>\n",
       "      <td>0.10520</td>\n",
       "      <td>0.2597</td>\n",
       "      <td>0.09744</td>\n",
       "      <td>...</td>\n",
       "      <td>14.91</td>\n",
       "      <td>26.50</td>\n",
       "      <td>98.87</td>\n",
       "      <td>567.7</td>\n",
       "      <td>0.2098</td>\n",
       "      <td>0.8663</td>\n",
       "      <td>0.6869</td>\n",
       "      <td>0.2575</td>\n",
       "      <td>0.6638</td>\n",
       "      <td>0.17300</td>\n",
       "    </tr>\n",
       "    <tr>\n",
       "      <th>4</th>\n",
       "      <td>20.29</td>\n",
       "      <td>14.34</td>\n",
       "      <td>135.10</td>\n",
       "      <td>1297.0</td>\n",
       "      <td>0.10030</td>\n",
       "      <td>0.13280</td>\n",
       "      <td>0.1980</td>\n",
       "      <td>0.10430</td>\n",
       "      <td>0.1809</td>\n",
       "      <td>0.05883</td>\n",
       "      <td>...</td>\n",
       "      <td>22.54</td>\n",
       "      <td>16.67</td>\n",
       "      <td>152.20</td>\n",
       "      <td>1575.0</td>\n",
       "      <td>0.1374</td>\n",
       "      <td>0.2050</td>\n",
       "      <td>0.4000</td>\n",
       "      <td>0.1625</td>\n",
       "      <td>0.2364</td>\n",
       "      <td>0.07678</td>\n",
       "    </tr>\n",
       "  </tbody>\n",
       "</table>\n",
       "<p>5 rows × 30 columns</p>\n",
       "</div>"
      ],
      "text/plain": [
       "   mean radius  mean texture  mean perimeter  mean area  mean smoothness  \\\n",
       "0        17.99         10.38          122.80     1001.0          0.11840   \n",
       "1        20.57         17.77          132.90     1326.0          0.08474   \n",
       "2        19.69         21.25          130.00     1203.0          0.10960   \n",
       "3        11.42         20.38           77.58      386.1          0.14250   \n",
       "4        20.29         14.34          135.10     1297.0          0.10030   \n",
       "\n",
       "   mean compactness  mean concavity  mean concave points  mean symmetry  \\\n",
       "0           0.27760          0.3001              0.14710         0.2419   \n",
       "1           0.07864          0.0869              0.07017         0.1812   \n",
       "2           0.15990          0.1974              0.12790         0.2069   \n",
       "3           0.28390          0.2414              0.10520         0.2597   \n",
       "4           0.13280          0.1980              0.10430         0.1809   \n",
       "\n",
       "   mean fractal dimension           ...             worst radius  \\\n",
       "0                 0.07871           ...                    25.38   \n",
       "1                 0.05667           ...                    24.99   \n",
       "2                 0.05999           ...                    23.57   \n",
       "3                 0.09744           ...                    14.91   \n",
       "4                 0.05883           ...                    22.54   \n",
       "\n",
       "   worst texture  worst perimeter  worst area  worst smoothness  \\\n",
       "0          17.33           184.60      2019.0            0.1622   \n",
       "1          23.41           158.80      1956.0            0.1238   \n",
       "2          25.53           152.50      1709.0            0.1444   \n",
       "3          26.50            98.87       567.7            0.2098   \n",
       "4          16.67           152.20      1575.0            0.1374   \n",
       "\n",
       "   worst compactness  worst concavity  worst concave points  worst symmetry  \\\n",
       "0             0.6656           0.7119                0.2654          0.4601   \n",
       "1             0.1866           0.2416                0.1860          0.2750   \n",
       "2             0.4245           0.4504                0.2430          0.3613   \n",
       "3             0.8663           0.6869                0.2575          0.6638   \n",
       "4             0.2050           0.4000                0.1625          0.2364   \n",
       "\n",
       "   worst fractal dimension  \n",
       "0                  0.11890  \n",
       "1                  0.08902  \n",
       "2                  0.08758  \n",
       "3                  0.17300  \n",
       "4                  0.07678  \n",
       "\n",
       "[5 rows x 30 columns]"
      ]
     },
     "execution_count": 8,
     "metadata": {},
     "output_type": "execute_result"
    }
   ],
   "source": [
    "df.head()"
   ]
  },
  {
   "cell_type": "markdown",
   "metadata": {},
   "source": [
    "# Exploratory Data Analysis\n",
    "\n"
   ]
  },
  {
   "cell_type": "markdown",
   "metadata": {},
   "source": [
    "We'll skip the Data Viz part for this lecture since there are so many features that are hard to interpret if you don't have domain knowledge of cancer or tumor cells. In your project you will have more to visualize for the data."
   ]
  },
  {
   "cell_type": "markdown",
   "metadata": {},
   "source": [
    "## Train Test Split"
   ]
  },
  {
   "cell_type": "code",
   "execution_count": 57,
   "metadata": {
    "collapsed": true
   },
   "outputs": [],
   "source": [
    "from sklearn.model_selection import train_test_split"
   ]
  },
  {
   "cell_type": "code",
   "execution_count": 58,
   "metadata": {
    "collapsed": false
   },
   "outputs": [],
   "source": [
    "X_train, X_test, y_train, y_test = train_test_split(df_feat, np.ravel(df_target), test_size=0.30, random_state=101)"
   ]
  },
  {
   "cell_type": "markdown",
   "metadata": {},
   "source": [
    "# Train the Support Vector Classifier"
   ]
  },
  {
   "cell_type": "code",
   "execution_count": 59,
   "metadata": {
    "collapsed": true
   },
   "outputs": [],
   "source": [
    "from sklearn.svm import SVC"
   ]
  },
  {
   "cell_type": "code",
   "execution_count": 60,
   "metadata": {
    "collapsed": true
   },
   "outputs": [],
   "source": [
    "model = SVC()"
   ]
  },
  {
   "cell_type": "code",
   "execution_count": 61,
   "metadata": {
    "collapsed": false
   },
   "outputs": [
    {
     "data": {
      "text/plain": [
       "SVC(C=1.0, cache_size=200, class_weight=None, coef0=0.0,\n",
       "  decision_function_shape=None, degree=3, gamma='auto', kernel='rbf',\n",
       "  max_iter=-1, probability=False, random_state=None, shrinking=True,\n",
       "  tol=0.001, verbose=False)"
      ]
     },
     "execution_count": 61,
     "metadata": {},
     "output_type": "execute_result"
    }
   ],
   "source": [
    "model.fit(X_train,y_train)"
   ]
  },
  {
   "cell_type": "markdown",
   "metadata": {},
   "source": [
    "## Predictions and Evaluations\n",
    "\n",
    "Now let's predict using the trained model."
   ]
  },
  {
   "cell_type": "code",
   "execution_count": 27,
   "metadata": {
    "collapsed": false
   },
   "outputs": [],
   "source": [
    "predictions = model.predict(X_test)"
   ]
  },
  {
   "cell_type": "code",
   "execution_count": 45,
   "metadata": {
    "collapsed": true
   },
   "outputs": [],
   "source": [
    "from sklearn.metrics import classification_report,confusion_matrix"
   ]
  },
  {
   "cell_type": "code",
   "execution_count": 46,
   "metadata": {
    "collapsed": false
   },
   "outputs": [
    {
     "name": "stdout",
     "output_type": "stream",
     "text": [
      "[[  0  66]\n",
      " [  0 105]]\n"
     ]
    }
   ],
   "source": [
    "print(confusion_matrix(y_test,predictions))"
   ]
  },
  {
   "cell_type": "code",
   "execution_count": 62,
   "metadata": {
    "collapsed": false
   },
   "outputs": [
    {
     "name": "stdout",
     "output_type": "stream",
     "text": [
      "             precision    recall  f1-score   support\n",
      "\n",
      "          0       0.00      0.00      0.00        66\n",
      "          1       0.61      1.00      0.76       105\n",
      "\n",
      "avg / total       0.38      0.61      0.47       171\n",
      "\n"
     ]
    },
    {
     "name": "stderr",
     "output_type": "stream",
     "text": [
      "/Users/marci/anaconda/lib/python3.5/site-packages/sklearn/metrics/classification.py:1074: UndefinedMetricWarning: Precision and F-score are ill-defined and being set to 0.0 in labels with no predicted samples.\n",
      "  'precision', 'predicted', average, warn_for)\n"
     ]
    }
   ],
   "source": [
    "print(classification_report(y_test,predictions))"
   ]
  },
  {
   "cell_type": "markdown",
   "metadata": {},
   "source": [
    "Woah! Notice that we are classifying everything into a single class! This means our model needs to have it parameters adjusted (it may also help to normalize the data).\n",
    "\n",
    "We can search for parameters using a GridSearch!"
   ]
  },
  {
   "cell_type": "markdown",
   "metadata": {},
   "source": [
    "# Gridsearch\n",
    "\n",
    "Finding the right parameters (like what C or gamma values to use) is a tricky task! But luckily, we can be a little lazy and just try a bunch of combinations and see what works best! This idea of creating a 'grid' of parameters and just trying out all the possible combinations is called a Gridsearch, this method is common enough that Scikit-learn has this functionality built in with GridSearchCV! The CV stands for cross-validation which is the\n",
    "\n",
    "GridSearchCV takes a dictionary that describes the parameters that should be tried and a model to train. The grid of parameters is defined as a dictionary, where the keys are the parameters and the values are the settings to be tested. "
   ]
  },
  {
   "cell_type": "code",
   "execution_count": 63,
   "metadata": {
    "collapsed": true
   },
   "outputs": [],
   "source": [
    "param_grid = {'C': [0.1,1, 10, 100, 1000], 'gamma': [1,0.1,0.01,0.001,0.0001], 'kernel': ['rbf']} "
   ]
  },
  {
   "cell_type": "code",
   "execution_count": 64,
   "metadata": {
    "collapsed": true
   },
   "outputs": [],
   "source": [
    "from sklearn.model_selection import GridSearchCV"
   ]
  },
  {
   "cell_type": "markdown",
   "metadata": {},
   "source": [
    "One of the great things about GridSearchCV is that it is a meta-estimator. It takes an estimator like SVC, and creates a new estimator, that behaves exactly the same - in this case, like a classifier. You should add refit=True and choose verbose to whatever number you want, higher the number, the more verbose (verbose just means the text output describing the process)."
   ]
  },
  {
   "cell_type": "code",
   "execution_count": 65,
   "metadata": {
    "collapsed": true
   },
   "outputs": [],
   "source": [
    "grid = GridSearchCV(SVC(),param_grid,refit=True,verbose=3)"
   ]
  },
  {
   "cell_type": "markdown",
   "metadata": {},
   "source": [
    "What fit does is a bit more involved then usual. First, it runs the same loop with cross-validation, to find the best parameter combination. Once it has the best combination, it runs fit again on all data passed to fit (without cross-validation), to built a single new model using the best parameter setting."
   ]
  },
  {
   "cell_type": "code",
   "execution_count": 40,
   "metadata": {
    "collapsed": false
   },
   "outputs": [
    {
     "name": "stdout",
     "output_type": "stream",
     "text": [
      "Fitting 3 folds for each of 25 candidates, totalling 75 fits\n",
      "[CV] gamma=1, C=0.1, kernel=rbf ......................................\n",
      "[CV] ............. gamma=1, C=0.1, kernel=rbf, score=0.631579 -   0.0s\n",
      "[CV] gamma=1, C=0.1, kernel=rbf ......................................\n",
      "[CV] ............. gamma=1, C=0.1, kernel=rbf, score=0.631579 -   0.0s\n",
      "[CV] gamma=1, C=0.1, kernel=rbf ......................................\n",
      "[CV] ............. gamma=1, C=0.1, kernel=rbf, score=0.636364 -   0.0s\n",
      "[CV] gamma=0.1, C=0.1, kernel=rbf ....................................\n",
      "[CV] ........... gamma=0.1, C=0.1, kernel=rbf, score=0.631579 -   0.0s\n",
      "[CV] gamma=0.1, C=0.1, kernel=rbf ....................................\n",
      "[CV] ........... gamma=0.1, C=0.1, kernel=rbf, score=0.631579 -   0.0s\n",
      "[CV] gamma=0.1, C=0.1, kernel=rbf ....................................\n",
      "[CV] ........... gamma=0.1, C=0.1, kernel=rbf, score=0.636364 -   0.0s\n",
      "[CV] gamma=0.01, C=0.1, kernel=rbf ...................................\n",
      "[CV] .......... gamma=0.01, C=0.1, kernel=rbf, score=0.631579 -   0.0s\n",
      "[CV] gamma=0.01, C=0.1, kernel=rbf ...................................\n",
      "[CV] .......... gamma=0.01, C=0.1, kernel=rbf, score=0.631579 -   0.0s\n",
      "[CV] gamma=0.01, C=0.1, kernel=rbf ...................................\n",
      "[CV] .......... gamma=0.01, C=0.1, kernel=rbf, score=0.636364 -   0.0s\n",
      "[CV] gamma=0.001, C=0.1, kernel=rbf ..................................\n",
      "[CV] ......... gamma=0.001, C=0.1, kernel=rbf, score=0.631579 -   0.0s\n",
      "[CV] gamma=0.001, C=0.1, kernel=rbf ..................................\n",
      "[CV] ......... gamma=0.001, C=0.1, kernel=rbf, score=0.631579 -   0.0s\n",
      "[CV] gamma=0.001, C=0.1, kernel=rbf ..................................\n",
      "[CV] ......... gamma=0.001, C=0.1, kernel=rbf, score=0.636364 -   0.0s\n",
      "[CV] gamma=0.0001, C=0.1, kernel=rbf .................................\n",
      "[CV] ........ gamma=0.0001, C=0.1, kernel=rbf, score=0.902256 -   0.0s\n",
      "[CV] gamma=0.0001, C=0.1, kernel=rbf .................................\n",
      "[CV] ........ gamma=0.0001, C=0.1, kernel=rbf, score=0.962406 -   0.0s\n",
      "[CV] gamma=0.0001, C=0.1, kernel=rbf .................................\n",
      "[CV] ........ gamma=0.0001, C=0.1, kernel=rbf, score=0.916667 -   0.0s\n",
      "[CV] gamma=1, C=1, kernel=rbf ........................................\n",
      "[CV] ............... gamma=1, C=1, kernel=rbf, score=0.631579 -   0.0s\n",
      "[CV] gamma=1, C=1, kernel=rbf ........................................\n",
      "[CV] ............... gamma=1, C=1, kernel=rbf, score=0.631579 -   0.0s\n",
      "[CV] gamma=1, C=1, kernel=rbf ........................................\n",
      "[CV] ............... gamma=1, C=1, kernel=rbf, score=0.636364 -   0.0s\n",
      "[CV] gamma=0.1, C=1, kernel=rbf ......................................\n",
      "[CV] ............. gamma=0.1, C=1, kernel=rbf, score=0.631579 -   0.0s\n",
      "[CV] gamma=0.1, C=1, kernel=rbf ......................................\n",
      "[CV] ............. gamma=0.1, C=1, kernel=rbf, score=0.631579 -   0.0s\n",
      "[CV] gamma=0.1, C=1, kernel=rbf ......................................\n",
      "[CV] ............. gamma=0.1, C=1, kernel=rbf, score=0.636364 -   0.0s\n",
      "[CV] gamma=0.01, C=1, kernel=rbf .....................................\n",
      "[CV] ............ gamma=0.01, C=1, kernel=rbf, score=0.631579 -   0.0s\n",
      "[CV] gamma=0.01, C=1, kernel=rbf .....................................\n",
      "[CV] ............ gamma=0.01, C=1, kernel=rbf, score=0.631579 -   0.0s\n",
      "[CV] gamma=0.01, C=1, kernel=rbf .....................................\n",
      "[CV] ............ gamma=0.01, C=1, kernel=rbf, score=0.636364 -   0.0s\n",
      "[CV] gamma=0.001, C=1, kernel=rbf ....................................\n",
      "[CV] ........... gamma=0.001, C=1, kernel=rbf, score=0.902256 -   0.0s\n",
      "[CV] gamma=0.001, C=1, kernel=rbf ....................................\n",
      "[CV] ........... gamma=0.001, C=1, kernel=rbf, score=0.939850 -   0.0s\n",
      "[CV] gamma=0.001, C=1, kernel=rbf ....................................\n",
      "[CV] ........... gamma=0.001, C=1, kernel=rbf, score=0.954545 -   0.0s\n",
      "[CV] gamma=0.0001, C=1, kernel=rbf ...................................\n",
      "[CV] .......... gamma=0.0001, C=1, kernel=rbf, score=0.939850 -   0.0s\n",
      "[CV] gamma=0.0001, C=1, kernel=rbf ...................................\n",
      "[CV] .......... gamma=0.0001, C=1, kernel=rbf, score=0.969925 -   0.0s\n",
      "[CV] gamma=0.0001, C=1, kernel=rbf ...................................\n",
      "[CV] .......... gamma=0.0001, C=1, kernel=rbf, score=0.946970 -   0.0s\n",
      "[CV] gamma=1, C=10, kernel=rbf .......................................\n",
      "[CV] .............. gamma=1, C=10, kernel=rbf, score=0.631579 -   0.0s\n",
      "[CV] gamma=1, C=10, kernel=rbf .......................................\n",
      "[CV] .............. gamma=1, C=10, kernel=rbf, score=0.631579 -   0.0s\n",
      "[CV] gamma=1, C=10, kernel=rbf .......................................\n",
      "[CV] .............. gamma=1, C=10, kernel=rbf, score=0.636364 -   0.0s\n",
      "[CV] gamma=0.1, C=10, kernel=rbf .....................................\n",
      "[CV] ............ gamma=0.1, C=10, kernel=rbf, score=0.631579 -   0.0s\n",
      "[CV] gamma=0.1, C=10, kernel=rbf .....................................\n",
      "[CV] ............ gamma=0.1, C=10, kernel=rbf, score=0.631579 -   0.0s\n",
      "[CV] gamma=0.1, C=10, kernel=rbf .....................................\n",
      "[CV] ............ gamma=0.1, C=10, kernel=rbf, score=0.636364 -   0.0s\n",
      "[CV] gamma=0.01, C=10, kernel=rbf ....................................\n",
      "[CV] ........... gamma=0.01, C=10, kernel=rbf, score=0.631579 -   0.0s\n",
      "[CV] gamma=0.01, C=10, kernel=rbf ....................................\n",
      "[CV] ........... gamma=0.01, C=10, kernel=rbf, score=0.631579 -   0.0s\n",
      "[CV] gamma=0.01, C=10, kernel=rbf ....................................\n",
      "[CV] ........... gamma=0.01, C=10, kernel=rbf, score=0.636364 -   0.0s\n",
      "[CV] gamma=0.001, C=10, kernel=rbf ...................................\n",
      "[CV] .......... gamma=0.001, C=10, kernel=rbf, score=0.894737 -   0.0s\n",
      "[CV] gamma=0.001, C=10, kernel=rbf ...................................\n",
      "[CV] .......... gamma=0.001, C=10, kernel=rbf, score=0.932331 -   0.0s\n",
      "[CV] gamma=0.001, C=10, kernel=rbf ...................................\n",
      "[CV] .......... gamma=0.001, C=10, kernel=rbf, score=0.916667 -   0.0s\n",
      "[CV] gamma=0.0001, C=10, kernel=rbf ..................................\n",
      "[CV] ......... gamma=0.0001, C=10, kernel=rbf, score=0.932331 -   0.0s\n",
      "[CV] gamma=0.0001, C=10, kernel=rbf ..................................\n",
      "[CV] ......... gamma=0.0001, C=10, kernel=rbf, score=0.969925 -   0.0s\n",
      "[CV] gamma=0.0001, C=10, kernel=rbf ..................................\n",
      "[CV] ......... gamma=0.0001, C=10, kernel=rbf, score=0.962121 -   0.0s\n",
      "[CV] gamma=1, C=100, kernel=rbf ......................................\n",
      "[CV] ............. gamma=1, C=100, kernel=rbf, score=0.631579 -   0.0s\n",
      "[CV] gamma=1, C=100, kernel=rbf ......................................\n",
      "[CV] ............. gamma=1, C=100, kernel=rbf, score=0.631579 -   0.0s\n",
      "[CV] gamma=1, C=100, kernel=rbf ......................................\n",
      "[CV] ............. gamma=1, C=100, kernel=rbf, score=0.636364 -   0.0s\n",
      "[CV] gamma=0.1, C=100, kernel=rbf ....................................\n",
      "[CV] ........... gamma=0.1, C=100, kernel=rbf, score=0.631579 -   0.0s\n",
      "[CV] gamma=0.1, C=100, kernel=rbf ....................................\n",
      "[CV] ........... gamma=0.1, C=100, kernel=rbf, score=0.631579 -   0.0s\n",
      "[CV] gamma=0.1, C=100, kernel=rbf ....................................\n",
      "[CV] ........... gamma=0.1, C=100, kernel=rbf, score=0.636364 -   0.0s\n",
      "[CV] gamma=0.01, C=100, kernel=rbf ...................................\n",
      "[CV] .......... gamma=0.01, C=100, kernel=rbf, score=0.631579 -   0.0s\n",
      "[CV] gamma=0.01, C=100, kernel=rbf ...................................\n",
      "[CV] .......... gamma=0.01, C=100, kernel=rbf, score=0.631579 -   0.0s\n",
      "[CV] gamma=0.01, C=100, kernel=rbf ...................................\n",
      "[CV] .......... gamma=0.01, C=100, kernel=rbf, score=0.636364 -   0.0s\n",
      "[CV] gamma=0.001, C=100, kernel=rbf ..................................\n",
      "[CV] ......... gamma=0.001, C=100, kernel=rbf, score=0.894737 -   0.0s\n",
      "[CV] gamma=0.001, C=100, kernel=rbf ..................................\n",
      "[CV] ......... gamma=0.001, C=100, kernel=rbf, score=0.932331 -   0.0s\n",
      "[CV] gamma=0.001, C=100, kernel=rbf ..................................\n",
      "[CV] ......... gamma=0.001, C=100, kernel=rbf, score=0.916667 -   0.0s\n",
      "[CV] gamma=0.0001, C=100, kernel=rbf .................................\n",
      "[CV] ........ gamma=0.0001, C=100, kernel=rbf, score=0.917293 -   0.0s\n",
      "[CV] gamma=0.0001, C=100, kernel=rbf .................................\n",
      "[CV] ........ gamma=0.0001, C=100, kernel=rbf, score=0.977444 -   0.0s\n",
      "[CV] gamma=0.0001, C=100, kernel=rbf .................................\n",
      "[CV] ........ gamma=0.0001, C=100, kernel=rbf, score=0.939394 -   0.0s\n",
      "[CV] gamma=1, C=1000, kernel=rbf .....................................\n",
      "[CV] ............ gamma=1, C=1000, kernel=rbf, score=0.631579 -   0.0s\n",
      "[CV] gamma=1, C=1000, kernel=rbf .....................................\n",
      "[CV] ............ gamma=1, C=1000, kernel=rbf, score=0.631579 -   0.0s\n",
      "[CV] gamma=1, C=1000, kernel=rbf .....................................\n",
      "[CV] ............ gamma=1, C=1000, kernel=rbf, score=0.636364 -   0.0s\n",
      "[CV] gamma=0.1, C=1000, kernel=rbf ...................................\n",
      "[CV] .......... gamma=0.1, C=1000, kernel=rbf, score=0.631579 -   0.0s\n",
      "[CV] gamma=0.1, C=1000, kernel=rbf ...................................\n",
      "[CV] .......... gamma=0.1, C=1000, kernel=rbf, score=0.631579 -   0.0s\n",
      "[CV] gamma=0.1, C=1000, kernel=rbf ...................................\n",
      "[CV] .......... gamma=0.1, C=1000, kernel=rbf, score=0.636364 -   0.0s\n",
      "[CV] gamma=0.01, C=1000, kernel=rbf ..................................\n",
      "[CV] ......... gamma=0.01, C=1000, kernel=rbf, score=0.631579 -   0.0s\n",
      "[CV] gamma=0.01, C=1000, kernel=rbf ..................................\n",
      "[CV] ......... gamma=0.01, C=1000, kernel=rbf, score=0.631579 -   0.0s\n",
      "[CV] gamma=0.01, C=1000, kernel=rbf ..................................\n",
      "[CV] ......... gamma=0.01, C=1000, kernel=rbf, score=0.636364 -   0.0s\n",
      "[CV] gamma=0.001, C=1000, kernel=rbf .................................\n",
      "[CV] ........ gamma=0.001, C=1000, kernel=rbf, score=0.894737 -   0.0s\n",
      "[CV] gamma=0.001, C=1000, kernel=rbf .................................\n",
      "[CV] ........ gamma=0.001, C=1000, kernel=rbf, score=0.932331 -   0.0s\n",
      "[CV] gamma=0.001, C=1000, kernel=rbf .................................\n",
      "[CV] ........ gamma=0.001, C=1000, kernel=rbf, score=0.916667 -   0.0s"
     ]
    },
    {
     "name": "stderr",
     "output_type": "stream",
     "text": [
      "[Parallel(n_jobs=1)]: Done  31 tasks       | elapsed:    0.3s\n",
      "[Parallel(n_jobs=1)]: Done  75 out of  75 | elapsed:    0.8s finished\n"
     ]
    },
    {
     "name": "stdout",
     "output_type": "stream",
     "text": [
      "\n",
      "[CV] gamma=0.0001, C=1000, kernel=rbf ................................\n",
      "[CV] ....... gamma=0.0001, C=1000, kernel=rbf, score=0.909774 -   0.0s\n",
      "[CV] gamma=0.0001, C=1000, kernel=rbf ................................\n",
      "[CV] ....... gamma=0.0001, C=1000, kernel=rbf, score=0.969925 -   0.0s\n",
      "[CV] gamma=0.0001, C=1000, kernel=rbf ................................\n",
      "[CV] ....... gamma=0.0001, C=1000, kernel=rbf, score=0.931818 -   0.0s\n"
     ]
    },
    {
     "data": {
      "text/plain": [
       "GridSearchCV(cv=None, error_score='raise',\n",
       "       estimator=SVC(C=1.0, cache_size=200, class_weight=None, coef0=0.0,\n",
       "  decision_function_shape=None, degree=3, gamma='auto', kernel='rbf',\n",
       "  max_iter=-1, probability=False, random_state=None, shrinking=True,\n",
       "  tol=0.001, verbose=False),\n",
       "       fit_params={}, iid=True, n_jobs=1,\n",
       "       param_grid={'gamma': [1, 0.1, 0.01, 0.001, 0.0001], 'C': [0.1, 1, 10, 100, 1000], 'kernel': ['rbf']},\n",
       "       pre_dispatch='2*n_jobs', refit=True, scoring=None, verbose=3)"
      ]
     },
     "execution_count": 40,
     "metadata": {},
     "output_type": "execute_result"
    }
   ],
   "source": [
    "# May take awhile!\n",
    "grid.fit(X_train,y_train)"
   ]
  },
  {
   "cell_type": "markdown",
   "metadata": {},
   "source": [
    "You can inspect the best parameters found by GridSearchCV in the best_params_ attribute, and the best estimator in the best\\_estimator_ attribute:"
   ]
  },
  {
   "cell_type": "code",
   "execution_count": 41,
   "metadata": {
    "collapsed": false
   },
   "outputs": [
    {
     "data": {
      "text/plain": [
       "{'C': 10, 'gamma': 0.0001, 'kernel': 'rbf'}"
      ]
     },
     "execution_count": 41,
     "metadata": {},
     "output_type": "execute_result"
    }
   ],
   "source": [
    "grid.best_params_"
   ]
  },
  {
   "cell_type": "code",
   "execution_count": null,
   "metadata": {
    "collapsed": false
   },
   "outputs": [],
   "source": [
    "grid.best_estimator_"
   ]
  },
  {
   "cell_type": "markdown",
   "metadata": {},
   "source": [
    "Then you can re-run predictions on this grid object just like you would with a normal model."
   ]
  },
  {
   "cell_type": "code",
   "execution_count": 48,
   "metadata": {
    "collapsed": false
   },
   "outputs": [],
   "source": [
    "grid_predictions = grid.predict(X_test)"
   ]
  },
  {
   "cell_type": "code",
   "execution_count": 49,
   "metadata": {
    "collapsed": false
   },
   "outputs": [
    {
     "name": "stdout",
     "output_type": "stream",
     "text": [
      "[[ 60   6]\n",
      " [  3 102]]\n"
     ]
    }
   ],
   "source": [
    "print(confusion_matrix(y_test,grid_predictions))"
   ]
  },
  {
   "cell_type": "code",
   "execution_count": 50,
   "metadata": {
    "collapsed": false
   },
   "outputs": [
    {
     "name": "stdout",
     "output_type": "stream",
     "text": [
      "             precision    recall  f1-score   support\n",
      "\n",
      "          0       0.95      0.91      0.93        66\n",
      "          1       0.94      0.97      0.96       105\n",
      "\n",
      "avg / total       0.95      0.95      0.95       171\n",
      "\n"
     ]
    }
   ],
   "source": [
    "print(classification_report(y_test,grid_predictions))"
   ]
  },
  {
   "cell_type": "markdown",
   "metadata": {},
   "source": [
    "# Great job!"
   ]
  }
 ],
 "metadata": {
  "kernelspec": {
   "display_name": "Python 3",
   "language": "python",
   "name": "python3"
  },
  "language_info": {
   "codemirror_mode": {
    "name": "ipython",
    "version": 3
   },
   "file_extension": ".py",
   "mimetype": "text/x-python",
   "name": "python",
   "nbconvert_exporter": "python",
   "pygments_lexer": "ipython3",
   "version": "3.5.1"
  }
 },
 "nbformat": 4,
 "nbformat_minor": 0
}
