{
 "cells": [
  {
   "cell_type": "markdown",
   "metadata": {},
   "source": [
    "# Predicting Waste Generation\n",
    "We will use waste generation data of different countries and try to predict it using that years GDP, Population, Income and Expenditure.\n",
    "- Features/Predictors: GDP, Population, Income and Expenditure.\n",
    "\n",
    "- Label/Target: Waste Generation"
   ]
  },
  {
   "cell_type": "code",
   "execution_count": 1,
   "metadata": {},
   "outputs": [],
   "source": [
    "import pandas as pd\n",
    "import numpy as np\n",
    "import matplotlib.pyplot as plt\n",
    "import seaborn as sns\n",
    "%matplotlib inline\n",
    "sns.set()"
   ]
  },
  {
   "cell_type": "code",
   "execution_count": 2,
   "metadata": {},
   "outputs": [],
   "source": [
    "df = pd.read_csv(\"train_data.csv\")"
   ]
  },
  {
   "cell_type": "code",
   "execution_count": 3,
   "metadata": {},
   "outputs": [
    {
     "data": {
      "text/html": [
       "<div>\n",
       "<style scoped>\n",
       "    .dataframe tbody tr th:only-of-type {\n",
       "        vertical-align: middle;\n",
       "    }\n",
       "\n",
       "    .dataframe tbody tr th {\n",
       "        vertical-align: top;\n",
       "    }\n",
       "\n",
       "    .dataframe thead th {\n",
       "        text-align: right;\n",
       "    }\n",
       "</style>\n",
       "<table border=\"1\" class=\"dataframe\">\n",
       "  <thead>\n",
       "    <tr style=\"text-align: right;\">\n",
       "      <th></th>\n",
       "      <th>country_name</th>\n",
       "      <th>gdp</th>\n",
       "      <th>pop</th>\n",
       "      <th>inc</th>\n",
       "      <th>exp</th>\n",
       "      <th>waste</th>\n",
       "    </tr>\n",
       "  </thead>\n",
       "  <tbody>\n",
       "    <tr>\n",
       "      <th>0</th>\n",
       "      <td>Tuvalu</td>\n",
       "      <td>3.921616e+07</td>\n",
       "      <td>11097</td>\n",
       "      <td>5070</td>\n",
       "      <td>0.0</td>\n",
       "      <td>3989.4865</td>\n",
       "    </tr>\n",
       "    <tr>\n",
       "      <th>1</th>\n",
       "      <td>Nauru</td>\n",
       "      <td>1.259303e+08</td>\n",
       "      <td>13049</td>\n",
       "      <td>10730</td>\n",
       "      <td>0.0</td>\n",
       "      <td>6191.7505</td>\n",
       "    </tr>\n",
       "    <tr>\n",
       "      <th>2</th>\n",
       "      <td>Marshall Islands</td>\n",
       "      <td>1.790418e+08</td>\n",
       "      <td>53066</td>\n",
       "      <td>4250</td>\n",
       "      <td>0.0</td>\n",
       "      <td>8614.0000</td>\n",
       "    </tr>\n",
       "    <tr>\n",
       "      <th>3</th>\n",
       "      <td>Kiribati</td>\n",
       "      <td>1.928691e+08</td>\n",
       "      <td>114395</td>\n",
       "      <td>3190</td>\n",
       "      <td>0.0</td>\n",
       "      <td>35723.8275</td>\n",
       "    </tr>\n",
       "    <tr>\n",
       "      <th>4</th>\n",
       "      <td>Palau</td>\n",
       "      <td>2.253080e+08</td>\n",
       "      <td>21503</td>\n",
       "      <td>15260</td>\n",
       "      <td>204456013.6</td>\n",
       "      <td>9426.7455</td>\n",
       "    </tr>\n",
       "  </tbody>\n",
       "</table>\n",
       "</div>"
      ],
      "text/plain": [
       "       country_name           gdp     pop    inc          exp       waste\n",
       "0            Tuvalu  3.921616e+07   11097   5070          0.0   3989.4865\n",
       "1             Nauru  1.259303e+08   13049  10730          0.0   6191.7505\n",
       "2  Marshall Islands  1.790418e+08   53066   4250          0.0   8614.0000\n",
       "3          Kiribati  1.928691e+08  114395   3190          0.0  35723.8275\n",
       "4             Palau  2.253080e+08   21503  15260  204456013.6   9426.7455"
      ]
     },
     "execution_count": 3,
     "metadata": {},
     "output_type": "execute_result"
    }
   ],
   "source": [
    "df.head()"
   ]
  },
  {
   "cell_type": "markdown",
   "metadata": {},
   "source": [
    "# Cleanup"
   ]
  },
  {
   "cell_type": "code",
   "execution_count": 4,
   "metadata": {},
   "outputs": [
    {
     "name": "stdout",
     "output_type": "stream",
     "text": [
      "<class 'pandas.core.frame.DataFrame'>\n",
      "RangeIndex: 216 entries, 0 to 215\n",
      "Data columns (total 6 columns):\n",
      "country_name    216 non-null object\n",
      "gdp             192 non-null float64\n",
      "pop             216 non-null int64\n",
      "inc             216 non-null int64\n",
      "exp             216 non-null float64\n",
      "waste           216 non-null float64\n",
      "dtypes: float64(3), int64(2), object(1)\n",
      "memory usage: 9.3+ KB\n"
     ]
    }
   ],
   "source": [
    "df.info()"
   ]
  },
  {
   "cell_type": "markdown",
   "metadata": {},
   "source": [
    "##### Dropping all rows with NaN values"
   ]
  },
  {
   "cell_type": "code",
   "execution_count": 5,
   "metadata": {},
   "outputs": [],
   "source": [
    "df.dropna(inplace=True)"
   ]
  },
  {
   "cell_type": "code",
   "execution_count": 6,
   "metadata": {},
   "outputs": [
    {
     "name": "stdout",
     "output_type": "stream",
     "text": [
      "<class 'pandas.core.frame.DataFrame'>\n",
      "Int64Index: 192 entries, 0 to 191\n",
      "Data columns (total 6 columns):\n",
      "country_name    192 non-null object\n",
      "gdp             192 non-null float64\n",
      "pop             192 non-null int64\n",
      "inc             192 non-null int64\n",
      "exp             192 non-null float64\n",
      "waste           192 non-null float64\n",
      "dtypes: float64(3), int64(2), object(1)\n",
      "memory usage: 9.8+ KB\n"
     ]
    }
   ],
   "source": [
    "df.info()"
   ]
  },
  {
   "cell_type": "markdown",
   "metadata": {},
   "source": [
    "## Setting our features (X) and our target (y)"
   ]
  },
  {
   "cell_type": "code",
   "execution_count": 7,
   "metadata": {},
   "outputs": [],
   "source": [
    "X = df.drop(['country_name', 'waste'], axis=1)\n",
    "y = df['waste']"
   ]
  },
  {
   "cell_type": "markdown",
   "metadata": {},
   "source": [
    "### Scaling the feature data to prepare for the KNN algorithm"
   ]
  },
  {
   "cell_type": "code",
   "execution_count": 8,
   "metadata": {},
   "outputs": [],
   "source": [
    "from sklearn.preprocessing import StandardScaler"
   ]
  },
  {
   "cell_type": "code",
   "execution_count": 9,
   "metadata": {},
   "outputs": [],
   "source": [
    "scaler = StandardScaler()"
   ]
  },
  {
   "cell_type": "code",
   "execution_count": 10,
   "metadata": {},
   "outputs": [
    {
     "data": {
      "text/plain": [
       "StandardScaler(copy=True, with_mean=True, with_std=True)"
      ]
     },
     "execution_count": 10,
     "metadata": {},
     "output_type": "execute_result"
    }
   ],
   "source": [
    "scaler.fit(X)"
   ]
  },
  {
   "cell_type": "markdown",
   "metadata": {},
   "source": [
    "##### We can see our scaled feature data below"
   ]
  },
  {
   "cell_type": "code",
   "execution_count": 11,
   "metadata": {},
   "outputs": [
    {
     "data": {
      "text/plain": [
       "array([[-0.26002276, -0.26638605, -0.43255752, -0.26862956],\n",
       "       [-0.25996611, -0.26637232, -0.10527074, -0.26862956],\n",
       "       [-0.2599314 , -0.26609084, -0.47997363, -0.26862956],\n",
       "       [-0.25992237, -0.26565945, -0.54126762, -0.26862956],\n",
       "       [-0.25990117, -0.26631285,  0.15667433, -0.26845391]])"
      ]
     },
     "execution_count": 11,
     "metadata": {},
     "output_type": "execute_result"
    }
   ],
   "source": [
    "scaled_feats = scaler.transform(X)\n",
    "scaled_feats[:5]"
   ]
  },
  {
   "cell_type": "markdown",
   "metadata": {},
   "source": [
    "##### A better view in a `DataFrame`"
   ]
  },
  {
   "cell_type": "code",
   "execution_count": 12,
   "metadata": {},
   "outputs": [
    {
     "data": {
      "text/html": [
       "<div>\n",
       "<style scoped>\n",
       "    .dataframe tbody tr th:only-of-type {\n",
       "        vertical-align: middle;\n",
       "    }\n",
       "\n",
       "    .dataframe tbody tr th {\n",
       "        vertical-align: top;\n",
       "    }\n",
       "\n",
       "    .dataframe thead th {\n",
       "        text-align: right;\n",
       "    }\n",
       "</style>\n",
       "<table border=\"1\" class=\"dataframe\">\n",
       "  <thead>\n",
       "    <tr style=\"text-align: right;\">\n",
       "      <th></th>\n",
       "      <th>gdp</th>\n",
       "      <th>pop</th>\n",
       "      <th>inc</th>\n",
       "      <th>exp</th>\n",
       "    </tr>\n",
       "  </thead>\n",
       "  <tbody>\n",
       "    <tr>\n",
       "      <th>0</th>\n",
       "      <td>-0.260023</td>\n",
       "      <td>-0.266386</td>\n",
       "      <td>-0.432558</td>\n",
       "      <td>-0.268630</td>\n",
       "    </tr>\n",
       "    <tr>\n",
       "      <th>1</th>\n",
       "      <td>-0.259966</td>\n",
       "      <td>-0.266372</td>\n",
       "      <td>-0.105271</td>\n",
       "      <td>-0.268630</td>\n",
       "    </tr>\n",
       "    <tr>\n",
       "      <th>2</th>\n",
       "      <td>-0.259931</td>\n",
       "      <td>-0.266091</td>\n",
       "      <td>-0.479974</td>\n",
       "      <td>-0.268630</td>\n",
       "    </tr>\n",
       "    <tr>\n",
       "      <th>3</th>\n",
       "      <td>-0.259922</td>\n",
       "      <td>-0.265659</td>\n",
       "      <td>-0.541268</td>\n",
       "      <td>-0.268630</td>\n",
       "    </tr>\n",
       "    <tr>\n",
       "      <th>4</th>\n",
       "      <td>-0.259901</td>\n",
       "      <td>-0.266313</td>\n",
       "      <td>0.156674</td>\n",
       "      <td>-0.268454</td>\n",
       "    </tr>\n",
       "  </tbody>\n",
       "</table>\n",
       "</div>"
      ],
      "text/plain": [
       "        gdp       pop       inc       exp\n",
       "0 -0.260023 -0.266386 -0.432558 -0.268630\n",
       "1 -0.259966 -0.266372 -0.105271 -0.268630\n",
       "2 -0.259931 -0.266091 -0.479974 -0.268630\n",
       "3 -0.259922 -0.265659 -0.541268 -0.268630\n",
       "4 -0.259901 -0.266313  0.156674 -0.268454"
      ]
     },
     "execution_count": 12,
     "metadata": {},
     "output_type": "execute_result"
    }
   ],
   "source": [
    "df_feat = pd.DataFrame(scaled_feats, columns=df.columns[1:-1])\n",
    "df_feat.head()"
   ]
  },
  {
   "cell_type": "code",
   "execution_count": 13,
   "metadata": {},
   "outputs": [
    {
     "data": {
      "text/html": [
       "<div>\n",
       "<style scoped>\n",
       "    .dataframe tbody tr th:only-of-type {\n",
       "        vertical-align: middle;\n",
       "    }\n",
       "\n",
       "    .dataframe tbody tr th {\n",
       "        vertical-align: top;\n",
       "    }\n",
       "\n",
       "    .dataframe thead th {\n",
       "        text-align: right;\n",
       "    }\n",
       "</style>\n",
       "<table border=\"1\" class=\"dataframe\">\n",
       "  <thead>\n",
       "    <tr style=\"text-align: right;\">\n",
       "      <th></th>\n",
       "      <th>gdp</th>\n",
       "      <th>pop</th>\n",
       "      <th>inc</th>\n",
       "      <th>exp</th>\n",
       "    </tr>\n",
       "  </thead>\n",
       "  <tbody>\n",
       "    <tr>\n",
       "      <th>mean</th>\n",
       "      <td>4.625929e-17</td>\n",
       "      <td>-2.312965e-17</td>\n",
       "      <td>6.707597e-17</td>\n",
       "      <td>1.572816e-16</td>\n",
       "    </tr>\n",
       "    <tr>\n",
       "      <th>std</th>\n",
       "      <td>1.002614e+00</td>\n",
       "      <td>1.002614e+00</td>\n",
       "      <td>1.002614e+00</td>\n",
       "      <td>1.002614e+00</td>\n",
       "    </tr>\n",
       "  </tbody>\n",
       "</table>\n",
       "</div>"
      ],
      "text/plain": [
       "               gdp           pop           inc           exp\n",
       "mean  4.625929e-17 -2.312965e-17  6.707597e-17  1.572816e-16\n",
       "std   1.002614e+00  1.002614e+00  1.002614e+00  1.002614e+00"
      ]
     },
     "execution_count": 13,
     "metadata": {},
     "output_type": "execute_result"
    }
   ],
   "source": [
    "df_feat.describe().loc['mean':'std']"
   ]
  },
  {
   "cell_type": "markdown",
   "metadata": {},
   "source": [
    "## Train Test Split"
   ]
  },
  {
   "cell_type": "code",
   "execution_count": 14,
   "metadata": {},
   "outputs": [],
   "source": [
    "from sklearn.model_selection import train_test_split"
   ]
  },
  {
   "cell_type": "code",
   "execution_count": 15,
   "metadata": {},
   "outputs": [],
   "source": [
    "X_train, X_test, y_train, y_test = train_test_split(df_feat, y, test_size=0.3, random_state=42)"
   ]
  },
  {
   "cell_type": "code",
   "execution_count": 16,
   "metadata": {},
   "outputs": [
    {
     "data": {
      "text/plain": [
       "(134, 58, 134, 58)"
      ]
     },
     "execution_count": 16,
     "metadata": {},
     "output_type": "execute_result"
    }
   ],
   "source": [
    "len(X_train), len(X_test), len(y_train), len(y_test)"
   ]
  },
  {
   "cell_type": "markdown",
   "metadata": {},
   "source": [
    "## K Nearest Neighbor (Regressor)"
   ]
  },
  {
   "cell_type": "code",
   "execution_count": 17,
   "metadata": {},
   "outputs": [],
   "source": [
    "from sklearn.neighbors import KNeighborsRegressor"
   ]
  },
  {
   "cell_type": "code",
   "execution_count": 18,
   "metadata": {},
   "outputs": [],
   "source": [
    "k_range = range(1, 40)\n",
    "accuracy_scores = []\n",
    "\n",
    "for i in k_range:\n",
    "    knn = KNeighborsRegressor(n_neighbors=i)\n",
    "    knn.fit(X_train, y_train)\n",
    "    preds = knn.predict(X_test)\n",
    "    accuracy_scores.append(knn.score(X_test, y_test))"
   ]
  },
  {
   "cell_type": "code",
   "execution_count": 19,
   "metadata": {},
   "outputs": [
    {
     "data": {
      "text/plain": [
       "array([0.8466838 , 0.85216223, 0.8195608 , 0.80259577, 0.85169923,\n",
       "       0.85016083, 0.85154851, 0.82017232, 0.79012363, 0.76299394,\n",
       "       0.73919838, 0.71222424, 0.69448021, 0.68500934, 0.68139988,\n",
       "       0.65272929, 0.62438177, 0.60473341, 0.59528311, 0.57223492,\n",
       "       0.55429416, 0.54039508, 0.51724618, 0.51010004, 0.49172523,\n",
       "       0.48454403, 0.46959661, 0.45773441, 0.44344792, 0.43398838,\n",
       "       0.42890402, 0.41634573, 0.40375451, 0.40105854, 0.38964153,\n",
       "       0.37760972, 0.36754492, 0.35715294, 0.34737924])"
      ]
     },
     "execution_count": 19,
     "metadata": {},
     "output_type": "execute_result"
    }
   ],
   "source": [
    "np.array(accuracy_scores)"
   ]
  },
  {
   "cell_type": "code",
   "execution_count": 20,
   "metadata": {},
   "outputs": [
    {
     "data": {
      "text/plain": [
       "(39, 39)"
      ]
     },
     "execution_count": 20,
     "metadata": {},
     "output_type": "execute_result"
    }
   ],
   "source": [
    "len(accuracy_scores), len(k_range)"
   ]
  },
  {
   "cell_type": "code",
   "execution_count": 21,
   "metadata": {},
   "outputs": [
    {
     "data": {
      "image/png": "[encoded data removed]",
      "text/plain": [
       "<Figure size 720x432 with 1 Axes>"
      ]
     },
     "metadata": {
      "needs_background": "light"
     },
     "output_type": "display_data"
    }
   ],
   "source": [
    "plt.figure(figsize=(10, 6))\n",
    "plt.plot(k_range, accuracy_scores, color='blue', linestyle='dashed', marker='o', markersize=5, markerfacecolor='red')\n",
    "plt.title(\"Accuracy scores for different values of K\")\n",
    "plt.xlabel(\"K values\")\n",
    "plt.ylabel(\"Accuracy score\")\n",
    "plt.tight_layout()"
   ]
  },
  {
   "cell_type": "markdown",
   "metadata": {},
   "source": [
    "It seems that the best K values are attained at 2, 5, 6 & 7. Afterwards the model accuracy starts to drop off."
   ]
  },
  {
   "cell_type": "code",
   "execution_count": 22,
   "metadata": {},
   "outputs": [
    {
     "name": "stdout",
     "output_type": "stream",
     "text": [
      "Highest accuracy score achieved : 0.8521622265484592\n",
      "K value with highest score      : 2\n"
     ]
    }
   ],
   "source": [
    "accuracy_scores = np.array(accuracy_scores)\n",
    "print(\"Highest accuracy score achieved :\", accuracy_scores.max())\n",
    "print(\"K value with highest score      :\", accuracy_scores.argmax()+1)"
   ]
  },
  {
   "cell_type": "code",
   "execution_count": 23,
   "metadata": {},
   "outputs": [
    {
     "data": {
      "text/plain": [
       "array([0.8466838 , 0.85216223, 0.8195608 , 0.80259577, 0.85169923,\n",
       "       0.85016083, 0.85154851, 0.82017232, 0.79012363, 0.76299394,\n",
       "       0.73919838, 0.71222424, 0.69448021, 0.68500934, 0.68139988,\n",
       "       0.65272929, 0.62438177, 0.60473341, 0.59528311, 0.57223492,\n",
       "       0.55429416, 0.54039508, 0.51724618, 0.51010004, 0.49172523,\n",
       "       0.48454403, 0.46959661, 0.45773441, 0.44344792, 0.43398838,\n",
       "       0.42890402, 0.41634573, 0.40375451, 0.40105854, 0.38964153,\n",
       "       0.37760972, 0.36754492, 0.35715294, 0.34737924])"
      ]
     },
     "execution_count": 23,
     "metadata": {},
     "output_type": "execute_result"
    }
   ],
   "source": [
    "accuracy_scores"
   ]
  },
  {
   "cell_type": "markdown",
   "metadata": {},
   "source": [
    "It seems that using the 2 nearest neighbors, in this case, gives us the highest accuracy score."
   ]
  }
 ],
 "metadata": {
  "kernelspec": {
   "display_name": "Python 3",
   "language": "python",
   "name": "python3"
  },
  "language_info": {
   "codemirror_mode": {
    "name": "ipython",
    "version": 3
   },
   "file_extension": ".py",
   "mimetype": "text/x-python",
   "name": "python",
   "nbconvert_exporter": "python",
   "pygments_lexer": "ipython3",
   "version": "3.7.3"
  }
 },
 "nbformat": 4,
 "nbformat_minor": 2
}
