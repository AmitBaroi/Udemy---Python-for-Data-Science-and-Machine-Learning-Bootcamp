{
 "cells": [
  {
   "cell_type": "markdown",
   "metadata": {},
   "source": [
    "___\n",
    "\n",
    "<a href='http://www.pieriandata.com'> <img src='Pierian_Data_Logo.png' /></a>\n",
    "___\n",
    "# Welcome to the Course \n",
    "\n",
    "This is the repository for the course: **Python for Data Science and Machine Learning Bootcamp**\n",
    "\n",
    "Thank you so much for enrolling in the course!\n",
    "\n",
    "## Overview of this Repository\n",
    "\n",
    "This repository contains everything you need for the course, it has all the notebooks, links"
   ]
  }
 ],
 "metadata": {
  "kernelspec": {
   "display_name": "Python 3",
   "language": "python",
   "name": "python3"
  },
  "language_info": {
   "codemirror_mode": {
    "name": "ipython",
    "version": 3
   },
   "file_extension": ".py",
   "mimetype": "text/x-python",
   "name": "python",
   "nbconvert_exporter": "python",
   "pygments_lexer": "ipython3",
   "version": "3.6.2"
  }
 },
 "nbformat": 4,
 "nbformat_minor": 1
}
